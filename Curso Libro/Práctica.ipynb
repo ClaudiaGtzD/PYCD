{
 "cells": [
  {
   "cell_type": "code",
   "execution_count": 2,
   "metadata": {},
   "outputs": [
    {
     "data": {
      "text/plain": [
       "['ner']"
      ]
     },
     "execution_count": 2,
     "metadata": {},
     "output_type": "execute_result"
    }
   ],
   "source": [
    "import spacy\n",
    "import textdescriptives\n",
    "\n",
    "nlp = spacy.load(\"es_core_news_lg\")\n",
    "nlp.add_pipe(\"textdescriptives/all\")\n",
    "nlp.disable_pipes('ner')"
   ]
  },
  {
   "cell_type": "code",
   "execution_count": 3,
   "metadata": {},
   "outputs": [
    {
     "name": "stderr",
     "output_type": "stream",
     "text": [
      "c:\\Users\\Claudia\\AppData\\Local\\Programs\\Python\\Python311\\Lib\\site-packages\\textdescriptives\\components\\coherence.py:44: UserWarning: [W008] Evaluating Span.similarity based on empty vectors.\n",
      "  similarities.append(sent.similarity(sents[i + order]))\n",
      "c:\\Users\\Claudia\\AppData\\Local\\Programs\\Python\\Python311\\Lib\\site-packages\\textdescriptives\\components\\information_theory.py:37: RuntimeWarning: overflow encountered in exp\n",
      "  return np.exp(entropy)\n"
     ]
    }
   ],
   "source": [
    "def carga_fichero(ruta):\n",
    "    with open(ruta, 'r', encoding='UTF-8') as fichero:\n",
    "        cadena = fichero.read()\n",
    "        return nlp(cadena)\n",
    "    \n",
    "niebla = carga_fichero(\"niebla.txt\")\n",
    "anacronopete = carga_fichero(\"anacronopete.txt\")\n",
    "mil_noches = carga_fichero(\"mil_y_una_noches_t1.txt\")\n",
    "arbol_ciencia = carga_fichero(\"arbol_ciencia.txt\")"
   ]
  },
  {
   "cell_type": "code",
   "execution_count": 7,
   "metadata": {},
   "outputs": [
    {
     "name": "stdout",
     "output_type": "stream",
     "text": [
      "{'n_tokens': 59083, 'n_unique_tokens': 7385, 'proportion_unique_tokens': 0.12499365299663186, 'n_characters': 251508, 'n_sentences': 3219}\n",
      "{'sentence_length_mean': 18.354457906182045, 'sentence_length_median': 14.0, 'sentence_length_std': 16.26019945191079}\n",
      "{'syllables_per_token_mean': 1.6664015029703976, 'syllables_per_token_median': 1.0, 'syllables_per_token_std': 0.9557051148406688}\n",
      "{'token_length_mean': 3.9713453954606233, 'token_length_median': 3.0, 'token_length_std': 2.6067269582053623}\n"
     ]
    }
   ],
   "source": [
    "print(niebla._.counts)\n",
    "\n",
    "print(niebla._.sentence_length)\n",
    "\n",
    "print(niebla._.syllables)\n",
    "\n",
    "print(niebla._.token_length)"
   ]
  },
  {
   "cell_type": "code",
   "execution_count": null,
   "metadata": {},
   "outputs": [],
   "source": [
    "nie"
   ]
  }
 ],
 "metadata": {
  "kernelspec": {
   "display_name": "Python 3",
   "language": "python",
   "name": "python3"
  },
  "language_info": {
   "codemirror_mode": {
    "name": "ipython",
    "version": 3
   },
   "file_extension": ".py",
   "mimetype": "text/x-python",
   "name": "python",
   "nbconvert_exporter": "python",
   "pygments_lexer": "ipython3",
   "version": "3.11.9"
  }
 },
 "nbformat": 4,
 "nbformat_minor": 2
}
